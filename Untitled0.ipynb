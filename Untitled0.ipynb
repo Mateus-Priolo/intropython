{
  "nbformat": 4,
  "nbformat_minor": 0,
  "metadata": {
    "colab": {
      "provenance": [],
      "authorship_tag": "ABX9TyPWYxMaF3sU2/63O8s/sNIj",
      "include_colab_link": true
    },
    "kernelspec": {
      "name": "python3",
      "display_name": "Python 3"
    },
    "language_info": {
      "name": "python"
    }
  },
  "cells": [
    {
      "cell_type": "markdown",
      "metadata": {
        "id": "view-in-github",
        "colab_type": "text"
      },
      "source": [
        "<a href=\"https://colab.research.google.com/github/Mateus-Priolo/intropython/blob/main/Untitled0.ipynb\" target=\"_parent\"><img src=\"https://colab.research.google.com/assets/colab-badge.svg\" alt=\"Open In Colab\"/></a>"
      ]
    },
    {
      "cell_type": "code",
      "execution_count": null,
      "metadata": {
        "id": "iUXAJsZ68W31"
      },
      "outputs": [],
      "source": [
        "[]"
      ]
    },
    {
      "cell_type": "markdown",
      "source": [
        "# início"
      ],
      "metadata": {
        "id": "joaTJrxy8a_H"
      }
    },
    {
      "cell_type": "code",
      "source": [
        "# rashtag\n",
        "print(\"is there anybory out there?\")"
      ],
      "metadata": {
        "colab": {
          "base_uri": "https://localhost:8080/"
        },
        "id": "Va0SLh4Q8d8-",
        "outputId": "90248010-764f-4490-fd09-d7c2d89d73c3"
      },
      "execution_count": 2,
      "outputs": [
        {
          "output_type": "stream",
          "name": "stdout",
          "text": [
            "is there anybory out there?\n"
          ]
        }
      ]
    },
    {
      "cell_type": "code",
      "source": [
        "# variaveis\n",
        "a = \"olá\"\n",
        "b = \"multiverso\"\n",
        "print(a+\" \"+b)"
      ],
      "metadata": {
        "colab": {
          "base_uri": "https://localhost:8080/"
        },
        "id": "wqliY-2Y-jIP",
        "outputId": "decc2c17-612f-49ea-ea7b-0aac570ce192"
      },
      "execution_count": 3,
      "outputs": [
        {
          "output_type": "stream",
          "name": "stdout",
          "text": [
            "olá multiverso\n"
          ]
        }
      ]
    },
    {
      "cell_type": "code",
      "source": [
        "#conta\n",
        "1488896+11111"
      ],
      "metadata": {
        "colab": {
          "base_uri": "https://localhost:8080/"
        },
        "id": "SKpnA3AR_Mzf",
        "outputId": "c4dbc814-4d43-4b64-bb86-eb9de683f505"
      },
      "execution_count": 4,
      "outputs": [
        {
          "output_type": "execute_result",
          "data": {
            "text/plain": [
              "1500007"
            ]
          },
          "metadata": {},
          "execution_count": 4
        }
      ]
    },
    {
      "cell_type": "code",
      "source": [
        "nm=\"Roberto\"\n",
        "idd=\"10000\"\n",
        "print(f'meu nome é {nm} e nasci há {idd} anos atrás')"
      ],
      "metadata": {
        "colab": {
          "base_uri": "https://localhost:8080/"
        },
        "id": "cT7k7yN9_naU",
        "outputId": "5d5f95f7-56df-4e56-efd8-6377fc33d2b3"
      },
      "execution_count": 9,
      "outputs": [
        {
          "output_type": "stream",
          "name": "stdout",
          "text": [
            "meu nome é Roberto e nasci há 10000 anos atrás\n"
          ]
        }
      ]
    }
  ]
}